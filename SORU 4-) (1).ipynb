{
  "metadata": {
    "language_info": {
      "codemirror_mode": {
        "name": "python",
        "version": 3
      },
      "file_extension": ".py",
      "mimetype": "text/x-python",
      "name": "python",
      "nbconvert_exporter": "python",
      "pygments_lexer": "ipython3",
      "version": "3.8"
    },
    "kernelspec": {
      "name": "python",
      "display_name": "Python (Pyodide)",
      "language": "python"
    }
  },
  "nbformat_minor": 4,
  "nbformat": 4,
  "cells": [
    {
      "cell_type": "code",
      "source": "import pandas as pd\n\n\nages = [15, 15, 16, 19, 19, 20, 20, 21, 22, 28, 35, 40, 41, 42, 43, 44, 60, 61, 65]\n\n\nc1 = 16\nc2 = 22\n\n\nfor i in range(4):\n   \n    distances = []\n    for age in ages:\n        distance1 = abs(age - c1)\n        distance2 = abs(age - c2)\n        distances.append([distance1, distance2])\n\n   \n    cluster_assignments = []\n    for distance in distances:\n        if distance[0] <= distance[1]:\n            cluster_assignments.append(1)\n        else:\n            cluster_assignments.append(2)\n\n   \n    c1 = sum([ages[j] for j in range(len(ages)) if cluster_assignments[j] == 1]) / cluster_assignments.count(1)\n    c2 = sum([ages[j] for j in range(len(ages)) if cluster_assignments[j] == 2]) / cluster_assignments.count(2)\n\n\ndata = {'Age': ages, 'Cluster Assignment': cluster_assignments}\ndf = pd.DataFrame(data)\n\n\nprint(df)",
      "metadata": {
        "trusted": true
      },
      "execution_count": 1,
      "outputs": [
        {
          "name": "stdout",
          "text": "    Age  Cluster Assignment\n0    15                   1\n1    15                   1\n2    16                   1\n3    19                   1\n4    19                   1\n5    20                   1\n6    20                   1\n7    21                   1\n8    22                   1\n9    28                   1\n10   35                   2\n11   40                   2\n12   41                   2\n13   42                   2\n14   43                   2\n15   44                   2\n16   60                   2\n17   61                   2\n18   65                   2\n",
          "output_type": "stream"
        }
      ]
    },
    {
      "cell_type": "code",
      "source": "",
      "metadata": {},
      "execution_count": null,
      "outputs": []
    }
  ]
}